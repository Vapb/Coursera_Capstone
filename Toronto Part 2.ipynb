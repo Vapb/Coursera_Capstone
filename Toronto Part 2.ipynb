{
 "cells": [
  {
   "cell_type": "markdown",
   "metadata": {},
   "source": [
    "# Segmenting and Clustering Neighborhoods in Toronto (PART 2)"
   ]
  },
  {
   "cell_type": "code",
   "execution_count": 1,
   "metadata": {},
   "outputs": [],
   "source": [
    "import pandas as pd\n",
    "import numpy as np\n",
    "import geocoder"
   ]
  },
  {
   "cell_type": "markdown",
   "metadata": {},
   "source": [
    "## Load DataSet from Part 1"
   ]
  },
  {
   "cell_type": "code",
   "execution_count": 2,
   "metadata": {},
   "outputs": [],
   "source": [
    "df = pd.read_csv('toronto.csv',index_col=[0])"
   ]
  },
  {
   "cell_type": "code",
   "execution_count": 3,
   "metadata": {},
   "outputs": [
    {
     "data": {
      "text/html": [
       "<div>\n",
       "<style scoped>\n",
       "    .dataframe tbody tr th:only-of-type {\n",
       "        vertical-align: middle;\n",
       "    }\n",
       "\n",
       "    .dataframe tbody tr th {\n",
       "        vertical-align: top;\n",
       "    }\n",
       "\n",
       "    .dataframe thead th {\n",
       "        text-align: right;\n",
       "    }\n",
       "</style>\n",
       "<table border=\"1\" class=\"dataframe\">\n",
       "  <thead>\n",
       "    <tr style=\"text-align: right;\">\n",
       "      <th></th>\n",
       "      <th>Postcode</th>\n",
       "      <th>Borough</th>\n",
       "      <th>Neighbourhood</th>\n",
       "    </tr>\n",
       "  </thead>\n",
       "  <tbody>\n",
       "    <tr>\n",
       "      <td>0</td>\n",
       "      <td>M3A</td>\n",
       "      <td>North York</td>\n",
       "      <td>Parkwoods</td>\n",
       "    </tr>\n",
       "    <tr>\n",
       "      <td>1</td>\n",
       "      <td>M4A</td>\n",
       "      <td>North York</td>\n",
       "      <td>Victoria Village</td>\n",
       "    </tr>\n",
       "    <tr>\n",
       "      <td>2</td>\n",
       "      <td>M5A</td>\n",
       "      <td>Downtown Toronto</td>\n",
       "      <td>Harbourfront</td>\n",
       "    </tr>\n",
       "    <tr>\n",
       "      <td>3</td>\n",
       "      <td>M6A</td>\n",
       "      <td>North York</td>\n",
       "      <td>Lawrence Heights, Lawrence Manor</td>\n",
       "    </tr>\n",
       "    <tr>\n",
       "      <td>4</td>\n",
       "      <td>M7A</td>\n",
       "      <td>Downtown Toronto</td>\n",
       "      <td>Queen's Park</td>\n",
       "    </tr>\n",
       "  </tbody>\n",
       "</table>\n",
       "</div>"
      ],
      "text/plain": [
       "  Postcode           Borough                     Neighbourhood\n",
       "0      M3A        North York                         Parkwoods\n",
       "1      M4A        North York                  Victoria Village\n",
       "2      M5A  Downtown Toronto                      Harbourfront\n",
       "3      M6A        North York  Lawrence Heights, Lawrence Manor\n",
       "4      M7A  Downtown Toronto                      Queen's Park"
      ]
     },
     "execution_count": 3,
     "metadata": {},
     "output_type": "execute_result"
    }
   ],
   "source": [
    "df.head()"
   ]
  },
  {
   "cell_type": "code",
   "execution_count": 42,
   "metadata": {},
   "outputs": [
    {
     "name": "stdout",
     "output_type": "stream",
     "text": [
      "<[OK] Arcgis - Geocode [M3A]>\n",
      "<[OK] Arcgis - Geocode [M4A]>\n",
      "<[OK] Arcgis - Geocode [M5A]>\n",
      "<[OK] Arcgis - Geocode [M6A]>\n",
      "<[OK] Arcgis - Geocode [M7A]>\n",
      "<[OK] Arcgis - Geocode [M9A]>\n",
      "<[OK] Arcgis - Geocode [M1B]>\n",
      "<[OK] Arcgis - Geocode [M3B]>\n",
      "<[OK] Arcgis - Geocode [M4B]>\n",
      "<[OK] Arcgis - Geocode [M5B]>\n",
      "<[OK] Arcgis - Geocode [M6B]>\n",
      "<[OK] Arcgis - Geocode [M9B]>\n",
      "<[OK] Arcgis - Geocode [M1C]>\n",
      "<[OK] Arcgis - Geocode [M3C]>\n",
      "<[OK] Arcgis - Geocode [M4C]>\n",
      "<[OK] Arcgis - Geocode [M5C]>\n",
      "<[OK] Arcgis - Geocode [M6C]>\n",
      "<[OK] Arcgis - Geocode [M9C]>\n",
      "<[OK] Arcgis - Geocode [M1E]>\n",
      "<[OK] Arcgis - Geocode [M4E]>\n",
      "<[OK] Arcgis - Geocode [M5E]>\n",
      "<[OK] Arcgis - Geocode [M6E]>\n",
      "<[OK] Arcgis - Geocode [M1G]>\n",
      "<[OK] Arcgis - Geocode [M4G]>\n",
      "<[OK] Arcgis - Geocode [M5G]>\n",
      "<[OK] Arcgis - Geocode [M6G]>\n",
      "<[OK] Arcgis - Geocode [M1H]>\n",
      "<[OK] Arcgis - Geocode [M2H]>\n",
      "<[OK] Arcgis - Geocode [M3H]>\n",
      "<[OK] Arcgis - Geocode [M4H]>\n",
      "<[OK] Arcgis - Geocode [M5H]>\n",
      "<[OK] Arcgis - Geocode [M6H]>\n",
      "<[OK] Arcgis - Geocode [M1J]>\n",
      "<[OK] Arcgis - Geocode [M2J]>\n",
      "<[OK] Arcgis - Geocode [M3J]>\n",
      "<[OK] Arcgis - Geocode [M4J]>\n",
      "<[OK] Arcgis - Geocode [M5J]>\n",
      "<[OK] Arcgis - Geocode [M6J]>\n",
      "<[OK] Arcgis - Geocode [M1K]>\n",
      "<[OK] Arcgis - Geocode [M2K]>\n",
      "<[OK] Arcgis - Geocode [M3K]>\n",
      "<[OK] Arcgis - Geocode [M4K]>\n",
      "<[OK] Arcgis - Geocode [M5K]>\n"
     ]
    },
    {
     "name": "stderr",
     "output_type": "stream",
     "text": [
      "Status code Unknown from https://geocode.arcgis.com/arcgis/rest/services/World/GeocodeServer/find: ERROR - HTTPSConnectionPool(host='geocode.arcgis.com', port=443): Max retries exceeded with url: /arcgis/rest/services/World/GeocodeServer/find?f=json&text=M6K%2C+Toronto%2C+Ontario&maxLocations=1 (Caused by NewConnectionError('<urllib3.connection.VerifiedHTTPSConnection object at 0x04DEFD90>: Failed to establish a new connection: [Errno 11001] getaddrinfo failed'))\n"
     ]
    },
    {
     "name": "stdout",
     "output_type": "stream",
     "text": [
      "<[ERROR - HTTPSConnectionPool(host='geocode.arcgis.com', port=443): Max retries exceeded with url: /arcgis/rest/services/World/GeocodeServer/find?f=json&text=M6K%2C+Toronto%2C+Ontario&maxLocations=1 (Caused by NewConnectionError('<urllib3.connection.VerifiedHTTPSConnection object at 0x04DEFD90>: Failed to establish a new connection: [Errno 11001] getaddrinfo failed'))] Arcgis - Geocode [empty]>\n",
      "<[OK] Arcgis - Geocode [M6K]>\n",
      "<[OK] Arcgis - Geocode [M1L]>\n",
      "<[OK] Arcgis - Geocode [M2L]>\n",
      "<[OK] Arcgis - Geocode [M3L]>\n",
      "<[OK] Arcgis - Geocode [M4L]>\n",
      "<[OK] Arcgis - Geocode [M5L]>\n",
      "<[OK] Arcgis - Geocode [M6L]>\n",
      "<[OK] Arcgis - Geocode [M9L]>\n",
      "<[OK] Arcgis - Geocode [M1M]>\n",
      "<[OK] Arcgis - Geocode [M2M]>\n",
      "<[OK] Arcgis - Geocode [M3M]>\n",
      "<[OK] Arcgis - Geocode [M4M]>\n",
      "<[OK] Arcgis - Geocode [M5M]>\n",
      "<[OK] Arcgis - Geocode [M6M]>\n",
      "<[OK] Arcgis - Geocode [M9M]>\n",
      "<[OK] Arcgis - Geocode [M1N]>\n",
      "<[OK] Arcgis - Geocode [M2N]>\n",
      "<[OK] Arcgis - Geocode [M3N]>\n",
      "<[OK] Arcgis - Geocode [M4N]>\n",
      "<[OK] Arcgis - Geocode [M5N]>\n",
      "<[OK] Arcgis - Geocode [M6N]>\n",
      "<[OK] Arcgis - Geocode [M9N]>\n",
      "<[OK] Arcgis - Geocode [M1P]>\n",
      "<[OK] Arcgis - Geocode [M2P]>\n",
      "<[OK] Arcgis - Geocode [M4P]>\n",
      "<[OK] Arcgis - Geocode [M5P]>\n",
      "<[OK] Arcgis - Geocode [M6P]>\n",
      "<[OK] Arcgis - Geocode [M9P]>\n",
      "<[OK] Arcgis - Geocode [M1R]>\n",
      "<[OK] Arcgis - Geocode [M2R]>\n",
      "<[OK] Arcgis - Geocode [M4R]>\n",
      "<[OK] Arcgis - Geocode [M5R]>\n",
      "<[OK] Arcgis - Geocode [M6R]>\n",
      "<[OK] Arcgis - Geocode [Toronto, Ontario]>\n",
      "<[OK] Arcgis - Geocode [M9R]>\n",
      "<[OK] Arcgis - Geocode [M1S]>\n",
      "<[OK] Arcgis - Geocode [M4S]>\n",
      "<[OK] Arcgis - Geocode [M5S]>\n",
      "<[OK] Arcgis - Geocode [M6S]>\n",
      "<[OK] Arcgis - Geocode [M1T]>\n",
      "<[OK] Arcgis - Geocode [M4T]>\n",
      "<[OK] Arcgis - Geocode [M5T]>\n",
      "<[OK] Arcgis - Geocode [M1V]>\n",
      "<[OK] Arcgis - Geocode [M4V]>\n",
      "<[OK] Arcgis - Geocode [M5V]>\n",
      "<[OK] Arcgis - Geocode [M8V]>\n",
      "<[OK] Arcgis - Geocode [M9V]>\n",
      "<[OK] Arcgis - Geocode [M1W]>\n",
      "<[OK] Arcgis - Geocode [M4W]>\n",
      "<[OK] Arcgis - Geocode [M5W]>\n",
      "<[OK] Arcgis - Geocode [M8W]>\n",
      "<[OK] Arcgis - Geocode [M9W]>\n",
      "<[OK] Arcgis - Geocode [M1X]>\n",
      "<[OK] Arcgis - Geocode [M4X]>\n",
      "<[OK] Arcgis - Geocode [M5X]>\n",
      "<[OK] Arcgis - Geocode [M8X]>\n",
      "<[OK] Arcgis - Geocode [M4Y]>\n",
      "<[OK] Arcgis - Geocode [M7Y]>\n",
      "<[OK] Arcgis - Geocode [M8Y]>\n",
      "<[OK] Arcgis - Geocode [M8Z]>\n"
     ]
    }
   ],
   "source": [
    "lat = []\n",
    "long = []\n",
    "\n",
    "for i in df['Postcode']:\n",
    "    lat_lng_coords = None\n",
    "    \n",
    "    while(lat_lng_coords is None):\n",
    "        g = geocoder.arcgis('{}, Toronto, Ontario'.format(i))\n",
    "        lat_lng_coords = g.latlng\n",
    "        print(g)\n",
    "        \n",
    "    lat.append(lat_lng_coords[0])\n",
    "    long.append(lat_lng_coords[1])"
   ]
  },
  {
   "cell_type": "code",
   "execution_count": 47,
   "metadata": {},
   "outputs": [],
   "source": [
    "df['Latitude'] = lat"
   ]
  },
  {
   "cell_type": "code",
   "execution_count": 49,
   "metadata": {},
   "outputs": [],
   "source": [
    "df['Longitude'] = long"
   ]
  },
  {
   "cell_type": "code",
   "execution_count": 51,
   "metadata": {},
   "outputs": [
    {
     "data": {
      "text/html": [
       "<div>\n",
       "<style scoped>\n",
       "    .dataframe tbody tr th:only-of-type {\n",
       "        vertical-align: middle;\n",
       "    }\n",
       "\n",
       "    .dataframe tbody tr th {\n",
       "        vertical-align: top;\n",
       "    }\n",
       "\n",
       "    .dataframe thead th {\n",
       "        text-align: right;\n",
       "    }\n",
       "</style>\n",
       "<table border=\"1\" class=\"dataframe\">\n",
       "  <thead>\n",
       "    <tr style=\"text-align: right;\">\n",
       "      <th></th>\n",
       "      <th>Postcode</th>\n",
       "      <th>Borough</th>\n",
       "      <th>Neighbourhood</th>\n",
       "      <th>Latitude</th>\n",
       "      <th>Longitude</th>\n",
       "    </tr>\n",
       "  </thead>\n",
       "  <tbody>\n",
       "    <tr>\n",
       "      <td>0</td>\n",
       "      <td>M3A</td>\n",
       "      <td>North York</td>\n",
       "      <td>Parkwoods</td>\n",
       "      <td>43.752420</td>\n",
       "      <td>-79.329242</td>\n",
       "    </tr>\n",
       "    <tr>\n",
       "      <td>1</td>\n",
       "      <td>M4A</td>\n",
       "      <td>North York</td>\n",
       "      <td>Victoria Village</td>\n",
       "      <td>43.730600</td>\n",
       "      <td>-79.313265</td>\n",
       "    </tr>\n",
       "    <tr>\n",
       "      <td>2</td>\n",
       "      <td>M5A</td>\n",
       "      <td>Downtown Toronto</td>\n",
       "      <td>Harbourfront</td>\n",
       "      <td>43.650295</td>\n",
       "      <td>-79.359166</td>\n",
       "    </tr>\n",
       "    <tr>\n",
       "      <td>3</td>\n",
       "      <td>M6A</td>\n",
       "      <td>North York</td>\n",
       "      <td>Lawrence Heights, Lawrence Manor</td>\n",
       "      <td>43.723270</td>\n",
       "      <td>-79.451286</td>\n",
       "    </tr>\n",
       "    <tr>\n",
       "      <td>4</td>\n",
       "      <td>M7A</td>\n",
       "      <td>Downtown Toronto</td>\n",
       "      <td>Queen's Park</td>\n",
       "      <td>43.661150</td>\n",
       "      <td>-79.391715</td>\n",
       "    </tr>\n",
       "    <tr>\n",
       "      <td>5</td>\n",
       "      <td>M9A</td>\n",
       "      <td>Etobicoke</td>\n",
       "      <td>Islington Avenue</td>\n",
       "      <td>43.662299</td>\n",
       "      <td>-79.528195</td>\n",
       "    </tr>\n",
       "    <tr>\n",
       "      <td>6</td>\n",
       "      <td>M1B</td>\n",
       "      <td>Scarborough</td>\n",
       "      <td>Rouge, Malvern</td>\n",
       "      <td>43.811525</td>\n",
       "      <td>-79.195517</td>\n",
       "    </tr>\n",
       "    <tr>\n",
       "      <td>7</td>\n",
       "      <td>M3B</td>\n",
       "      <td>North York</td>\n",
       "      <td>Don Mills North</td>\n",
       "      <td>43.749055</td>\n",
       "      <td>-79.362227</td>\n",
       "    </tr>\n",
       "    <tr>\n",
       "      <td>8</td>\n",
       "      <td>M4B</td>\n",
       "      <td>East York</td>\n",
       "      <td>Woodbine Gardens, Parkview Hill</td>\n",
       "      <td>43.707535</td>\n",
       "      <td>-79.311773</td>\n",
       "    </tr>\n",
       "    <tr>\n",
       "      <td>9</td>\n",
       "      <td>M5B</td>\n",
       "      <td>Downtown Toronto</td>\n",
       "      <td>Ryerson, Garden District</td>\n",
       "      <td>43.657363</td>\n",
       "      <td>-79.378180</td>\n",
       "    </tr>\n",
       "  </tbody>\n",
       "</table>\n",
       "</div>"
      ],
      "text/plain": [
       "  Postcode           Borough                     Neighbourhood   Latitude  \\\n",
       "0      M3A        North York                         Parkwoods  43.752420   \n",
       "1      M4A        North York                  Victoria Village  43.730600   \n",
       "2      M5A  Downtown Toronto                      Harbourfront  43.650295   \n",
       "3      M6A        North York  Lawrence Heights, Lawrence Manor  43.723270   \n",
       "4      M7A  Downtown Toronto                      Queen's Park  43.661150   \n",
       "5      M9A         Etobicoke                  Islington Avenue  43.662299   \n",
       "6      M1B       Scarborough                    Rouge, Malvern  43.811525   \n",
       "7      M3B        North York                   Don Mills North  43.749055   \n",
       "8      M4B         East York   Woodbine Gardens, Parkview Hill  43.707535   \n",
       "9      M5B  Downtown Toronto          Ryerson, Garden District  43.657363   \n",
       "\n",
       "   Longitude  \n",
       "0 -79.329242  \n",
       "1 -79.313265  \n",
       "2 -79.359166  \n",
       "3 -79.451286  \n",
       "4 -79.391715  \n",
       "5 -79.528195  \n",
       "6 -79.195517  \n",
       "7 -79.362227  \n",
       "8 -79.311773  \n",
       "9 -79.378180  "
      ]
     },
     "execution_count": 51,
     "metadata": {},
     "output_type": "execute_result"
    }
   ],
   "source": [
    "df.head(10)"
   ]
  },
  {
   "cell_type": "code",
   "execution_count": 52,
   "metadata": {},
   "outputs": [
    {
     "data": {
      "text/plain": [
       "(103, 5)"
      ]
     },
     "execution_count": 52,
     "metadata": {},
     "output_type": "execute_result"
    }
   ],
   "source": [
    "df.shape"
   ]
  },
  {
   "cell_type": "markdown",
   "metadata": {},
   "source": [
    "### EXPORT DATA FOR PART 3"
   ]
  },
  {
   "cell_type": "code",
   "execution_count": 53,
   "metadata": {},
   "outputs": [],
   "source": [
    "df.to_csv('toronto_LL.csv')"
   ]
  }
 ],
 "metadata": {
  "kernelspec": {
   "display_name": "Python 3",
   "language": "python",
   "name": "python3"
  },
  "language_info": {
   "codemirror_mode": {
    "name": "ipython",
    "version": 3
   },
   "file_extension": ".py",
   "mimetype": "text/x-python",
   "name": "python",
   "nbconvert_exporter": "python",
   "pygments_lexer": "ipython3",
   "version": "3.7.4"
  }
 },
 "nbformat": 4,
 "nbformat_minor": 2
}
